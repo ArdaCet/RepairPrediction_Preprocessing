{
  "nbformat": 4,
  "nbformat_minor": 0,
  "metadata": {
    "colab": {
      "name": "Increase RAM Reference Notes By Techhawa .ipynb adlı not defterinin kopyası",
      "provenance": [],
      "collapsed_sections": [
        "sneB5f8OX3ZT",
        "mLA7MMzEX2R8",
        "BwicxRHjXyKg",
        "uBMVnuubYC4T",
        "eYUopCzIAGWn",
        "qbvJe3XjhkpD",
        "mFXlDGPvhqva",
        "jjV0XaiA-S2o",
        "GlougFNF-rb0",
        "VG3wDdPI-otJ",
        "ZZMB69fd6_0m",
        "MNZvw4ti9xuR",
        "5kX23KKu3Rxv",
        "2cP0JIIG41J7",
        "Q69j-8oC5hW4",
        "p-ZbMtVU6Hiz",
        "vx6aJDan3r7s",
        "lxxCi9_wXMpn",
        "2IAtp13At5PO",
        "azy6G8jYxykF",
        "2YHOvJfERkWN",
        "3l6R809r2gjx"
      ],
      "machine_shape": "hm"
    },
    "kernelspec": {
      "display_name": "Python 3",
      "name": "python3"
    }
  },
  "cells": [
    {
      "cell_type": "markdown",
      "metadata": {
        "id": "sneB5f8OX3ZT"
      },
      "source": [
        "# Data Required Packages and Uploads"
      ]
    },
    {
      "cell_type": "code",
      "metadata": {
        "id": "3f0eh-bXXZxz"
      },
      "source": [
        "pip install sh"
      ],
      "execution_count": null,
      "outputs": []
    },
    {
      "cell_type": "code",
      "metadata": {
        "id": "C-oLI5zFRblV"
      },
      "source": [
        "!apt-get install bedtools"
      ],
      "execution_count": null,
      "outputs": []
    },
    {
      "cell_type": "code",
      "metadata": {
        "id": "cD1C5RZdXfzh"
      },
      "source": [
        "from google.colab import files\r\n",
        "import pandas as pd\r\n",
        "from itertools import islice\r\n",
        "from sh import gunzip\r\n",
        "import numpy as np\r\n",
        "import os"
      ],
      "execution_count": 3,
      "outputs": []
    },
    {
      "cell_type": "markdown",
      "metadata": {
        "id": "dVLVvuK3sFmt"
      },
      "source": [
        "To grant access for reaching google Drive folders."
      ]
    },
    {
      "cell_type": "code",
      "metadata": {
        "id": "aQwfqUAuFroO"
      },
      "source": [
        "from google.colab import drive\n",
        "drive.mount('/content/drive')"
      ],
      "execution_count": null,
      "outputs": []
    },
    {
      "cell_type": "markdown",
      "metadata": {
        "id": "Q7HmZ8Ykr672"
      },
      "source": [
        "To upload and unzip a file from local to google colab."
      ]
    },
    {
      "cell_type": "code",
      "metadata": {
        "id": "2ahh0vCKY8hV"
      },
      "source": [
        "uploaded2 = files.upload()"
      ],
      "execution_count": null,
      "outputs": []
    },
    {
      "cell_type": "code",
      "metadata": {
        "id": "FM_aMS4nXmHJ"
      },
      "source": [
        "gunzip('/content/Homo_sapiens.GRCh37.87.gtf.gz')"
      ],
      "execution_count": null,
      "outputs": []
    },
    {
      "cell_type": "markdown",
      "metadata": {
        "id": "mLA7MMzEX2R8"
      },
      "source": [
        "# Read File and edit columns"
      ]
    },
    {
      "cell_type": "code",
      "metadata": {
        "id": "yf_6U9BtXpHo"
      },
      "source": [
        "fl = open(\"/content/drive/MyDrive/Scripts/Data/Homo_sapiens.GRCh37.87.gtf\",\"r\")\r\n",
        "\r\n",
        "level_I_genes = []\r\n",
        "level_II_genes = []\r\n",
        "\r\n",
        "\r\n",
        "for line in fl:\r\n",
        "  column = line.split(\" \")\r\n",
        "  chromosome = column[0]\r\n",
        "  feature = column[2]\r\n",
        "  start = column[3]\r\n",
        "  end = column[4]\r\n",
        "  strand = column[6]\r\n",
        "  gene_name = column[13]\r\n",
        "\r\n",
        "  if feature == \"gene\" and (int(end) - int(start) >= 10000):        # Checks gene length\r\n",
        "    level_I_genes.append(column)\r\n",
        "\r\n",
        "fl.close()"
      ],
      "execution_count": null,
      "outputs": []
    },
    {
      "cell_type": "markdown",
      "metadata": {
        "id": "BwicxRHjXyKg"
      },
      "source": [
        "# Data Frame creation"
      ]
    },
    {
      "cell_type": "code",
      "metadata": {
        "id": "TYi4s89nXvEX"
      },
      "source": [
        "col_headers = [\"Chromosome_Name\", \"Sequence_Source\", \"Sequence_Feature\", \"Start\", \"End\", \"Strand\", \"Gene_ID\", \"Gene_Name\"]\r\n",
        "List_b_DF = []\r\n",
        "\r\n",
        "for EL in level_I_genes:\r\n",
        "  Chromosome_Name = EL[0]\r\n",
        "  Sequence_Source = EL[1]\r\n",
        "  Sequence_Feature = EL[2]\r\n",
        "  Start = EL[3]\r\n",
        "  End = EL[4]\r\n",
        "  Strand = EL[6]\r\n",
        "  Gene_ID = EL[9]\r\n",
        "  Gene_Name = EL[13]\r\n",
        "\r\n",
        "  List_b_DF.append([Chromosome_Name, Sequence_Source, Sequence_Feature, Start, End, Strand, Gene_ID, Gene_Name])\r\n",
        "  DF = pd.DataFrame(List_b_DF, columns = col_headers)\r\n",
        "\r\n",
        "\r\n",
        "DF"
      ],
      "execution_count": null,
      "outputs": []
    },
    {
      "cell_type": "markdown",
      "metadata": {
        "id": "uBMVnuubYC4T"
      },
      "source": [
        "# DataFrame filtering steps"
      ]
    },
    {
      "cell_type": "markdown",
      "metadata": {
        "id": "p6VSN3MS_hbz"
      },
      "source": [
        "Eleminating genes which span smaller than 10000 bases"
      ]
    },
    {
      "cell_type": "code",
      "metadata": {
        "id": "-HLcLYeuYCYr"
      },
      "source": [
        "convert_dict = {\"Chromosome_Name\" : str,\r\n",
        "                \"Sequence_Source\" : str,\r\n",
        "                \"Sequence_Feature\" : str,\r\n",
        "                \"Start\" : int,\r\n",
        "                \"End\" : int,\r\n",
        "                \"Strand\" : str,\r\n",
        "                \"Gene_ID\" : str,\r\n",
        "                \"Gene_Name\" : str} \r\n",
        "  \r\n",
        "DF = DF.astype(convert_dict) \r\n",
        "\r\n",
        "Candidate_index = DF[DF[\"Start\"] <= 10000].index\r\n",
        "\r\n",
        "DF = DF.drop(Candidate_index)\r\n",
        "\r\n",
        "DF[DF[\"Start\"] <= 15000]           # To check whether the row is discarded"
      ],
      "execution_count": null,
      "outputs": []
    },
    {
      "cell_type": "code",
      "metadata": {
        "id": "UBbTL3hZgN_K"
      },
      "source": [
        "DF[DF[\"Start\"] < 10]"
      ],
      "execution_count": null,
      "outputs": []
    },
    {
      "cell_type": "code",
      "metadata": {
        "id": "TFiRsrWJf04_"
      },
      "source": [
        "DF[(DF[\"End\"] - DF[\"Start\"]) == 10000]"
      ],
      "execution_count": null,
      "outputs": []
    },
    {
      "cell_type": "markdown",
      "metadata": {
        "id": "EVmuEUAP_HNY"
      },
      "source": [
        "Eleminating genes found in nontraditional chromosomes"
      ]
    },
    {
      "cell_type": "code",
      "metadata": {
        "id": "z4YdvwAwho2S"
      },
      "source": [
        "Trash_DF = DF[DF[\"Chromosome_Name\"].str.match('(^G.+)') == True].index\r\n",
        "print(Trash_DF)\r\n",
        "\r\n",
        "DF = DF.drop(Trash_DF)\r\n",
        "DF.tail()"
      ],
      "execution_count": null,
      "outputs": []
    },
    {
      "cell_type": "markdown",
      "metadata": {
        "id": "eYUopCzIAGWn"
      },
      "source": [
        "# Second Filtering Step"
      ]
    },
    {
      "cell_type": "markdown",
      "metadata": {
        "id": "oFmrNDPpjmo0"
      },
      "source": [
        "Eleminating gene overlaps considering strandedness"
      ]
    },
    {
      "cell_type": "code",
      "metadata": {
        "id": "VwRJZM_Ugehj"
      },
      "source": [
        "fl2 = DF.copy()\r\n",
        "\r\n",
        "fl2"
      ],
      "execution_count": null,
      "outputs": []
    },
    {
      "cell_type": "markdown",
      "metadata": {
        "id": "qbvJe3XjhkpD"
      },
      "source": [
        "# Gene Overlap Method - Strand Exclusive Version"
      ]
    },
    {
      "cell_type": "code",
      "metadata": {
        "id": "hgXq4tkrjgBw"
      },
      "source": [
        "def GeneOverlap(fl2):\r\n",
        "  Trash_list = []\r\n",
        "\r\n",
        "  fl2_chr_list = fl2[\"Chromosome_Name\"].tolist()\r\n",
        "  fl2_start_list = fl2[\"Start\"].tolist()\r\n",
        "  fl2_end_list = fl2[\"End\"].tolist()\r\n",
        "\r\n",
        "  for i in range(0, len(fl2)-1):\r\n",
        "    for j in range(i+1, len(fl2)):\r\n",
        "\r\n",
        "      if fl2_chr_list[i] == \"1\" and fl2_chr_list[j] == \"1\":\r\n",
        "        if (fl2_start_list[i] <= fl2_end_list[j]) and (fl2_end_list[i] >= fl2_start_list[j]):\r\n",
        "          if i not in Trash_list:\r\n",
        "            Trash_list.append(i)\r\n",
        "            \r\n",
        "    \r\n",
        "      if fl2_chr_list[i] == \"2\" and fl2_chr_list[j] == \"2\":\r\n",
        "        if (fl2_start_list[i] <= fl2_end_list[j]) and (fl2_end_list[i] >= fl2_start_list[j]):\r\n",
        "          if i not in Trash_list:\r\n",
        "            Trash_list.append(i)\r\n",
        "            \r\n",
        "\r\n",
        "      if fl2_chr_list[i] == \"3\" and fl2_chr_list[j] == \"3\":\r\n",
        "        if (fl2_start_list[i] <= fl2_end_list[j]) and (fl2_end_list[i] >= fl2_start_list[j]):\r\n",
        "          if i not in Trash_list:\r\n",
        "            Trash_list.append(i)\r\n",
        "            \r\n",
        "\r\n",
        "      if fl2_chr_list[i] == \"4\" and fl2_chr_list[j] == \"4\":\r\n",
        "        if (fl2_start_list[i] <= fl2_end_list[j]) and (fl2_end_list[i] >= fl2_start_list[j]):\r\n",
        "          if i not in Trash_list:\r\n",
        "            Trash_list.append(i)\r\n",
        "            \r\n",
        "\r\n",
        "      if fl2_chr_list[i] == \"5\" and fl2_chr_list[j] == \"5\":\r\n",
        "        if (fl2_start_list[i] <= fl2_end_list[j]) and (fl2_end_list[i] >= fl2_start_list[j]):\r\n",
        "          if i not in Trash_list:\r\n",
        "            Trash_list.append(i)\r\n",
        "            \r\n",
        "\r\n",
        "      if fl2_chr_list[i] == \"6\" and fl2_chr_list[j] == \"6\":\r\n",
        "        if (fl2_start_list[i] <= fl2_end_list[j]) and (fl2_end_list[i] >= fl2_start_list[j]):\r\n",
        "          if i not in Trash_list:\r\n",
        "            Trash_list.append(i)\r\n",
        "            \r\n",
        "\r\n",
        "      if fl2_chr_list[i] == \"7\" and fl2_chr_list[j] == \"7\":\r\n",
        "        if (fl2_start_list[i] <= fl2_end_list[j]) and (fl2_end_list[i] >= fl2_start_list[j]):\r\n",
        "          if i not in Trash_list:\r\n",
        "            Trash_list.append(i)\r\n",
        "            \r\n",
        "\r\n",
        "      if fl2_chr_list[i] == \"X\" and fl2_chr_list[j] == \"X\":\r\n",
        "        if (fl2_start_list[i] <= fl2_end_list[j]) and (fl2_end_list[i] >= fl2_start_list[j]):\r\n",
        "          if i not in Trash_list:\r\n",
        "            Trash_list.append(i)\r\n",
        "            \r\n",
        "\r\n",
        "      if fl2_chr_list[i] == \"8\" and fl2_chr_list[j] == \"8\":\r\n",
        "        if (fl2_start_list[i] <= fl2_end_list[j]) and (fl2_end_list[i] >= fl2_start_list[j]):\r\n",
        "          if i not in Trash_list:\r\n",
        "            Trash_list.append(i)\r\n",
        "            \r\n",
        "\r\n",
        "      if fl2_chr_list[i] == \"9\" and fl2_chr_list[j] == \"9\":\r\n",
        "        if (fl2_start_list[i] <= fl2_end_list[j]) and (fl2_end_list[i] >= fl2_start_list[j]):\r\n",
        "          if i not in Trash_list:\r\n",
        "            Trash_list.append(i)\r\n",
        "            \r\n",
        "\r\n",
        "      if fl2_chr_list[i] == \"10\" and fl2_chr_list[j] == \"10\":\r\n",
        "        if (fl2_start_list[i] <= fl2_end_list[j]) and (fl2_end_list[i] >= fl2_start_list[j]):\r\n",
        "          if i not in Trash_list:\r\n",
        "            Trash_list.append(i)\r\n",
        "            \r\n",
        "\r\n",
        "      if fl2_chr_list[i] == \"11\" and fl2_chr_list[j] == \"11\":\r\n",
        "        if (fl2_start_list[i] <= fl2_end_list[j]) and (fl2_end_list[i] >= fl2_start_list[j]):\r\n",
        "          if i not in Trash_list:\r\n",
        "            Trash_list.append(i)\r\n",
        "            \r\n",
        "\r\n",
        "      if fl2_chr_list[i] == \"12\" and fl2_chr_list[j] == \"12\":\r\n",
        "        if (fl2_start_list[i] <= fl2_end_list[j]) and (fl2_end_list[i] >= fl2_start_list[j]):\r\n",
        "          if i not in Trash_list:\r\n",
        "            Trash_list.append(i)\r\n",
        "            \r\n",
        "\r\n",
        "      if fl2_chr_list[i] == \"13\" and fl2_chr_list[j] == \"13\":\r\n",
        "        if (fl2_start_list[i] <= fl2_end_list[j]) and (fl2_end_list[i] >= fl2_start_list[j]):\r\n",
        "          if i not in Trash_list:\r\n",
        "            Trash_list.append(i)\r\n",
        "            \r\n",
        "\r\n",
        "      if fl2_chr_list[i] == \"14\" and fl2_chr_list[j] == \"14\":\r\n",
        "        if (fl2_start_list[i] <= fl2_end_list[j]) and (fl2_end_list[i] >= fl2_start_list[j]):\r\n",
        "          if i not in Trash_list:\r\n",
        "            Trash_list.append(i)\r\n",
        "            \r\n",
        "\r\n",
        "      if fl2_chr_list[i] == \"15\" and fl2_chr_list[j] == \"15\":\r\n",
        "        if (fl2_start_list[i] <= fl2_end_list[j]) and (fl2_end_list[i] >= fl2_start_list[j]):\r\n",
        "          if i not in Trash_list:\r\n",
        "            Trash_list.append(i)\r\n",
        "            \r\n",
        "\r\n",
        "      if fl2_chr_list[i] == \"16\" and fl2_chr_list[j] == \"16\":\r\n",
        "        if (fl2_start_list[i] <= fl2_end_list[j]) and (fl2_end_list[i] >= fl2_start_list[j]):\r\n",
        "          if i not in Trash_list:\r\n",
        "            Trash_list.append(i)\r\n",
        "            \r\n",
        "\r\n",
        "      if fl2_chr_list[i] == \"17\" and fl2_chr_list[j] == \"17\":\r\n",
        "        if (fl2_start_list[i] <= fl2_end_list[j]) and (fl2_end_list[i] >= fl2_start_list[j]):\r\n",
        "          if i not in Trash_list:\r\n",
        "            Trash_list.append(i)\r\n",
        "            \r\n",
        "\r\n",
        "      if fl2_chr_list[i] == \"18\" and fl2_chr_list[j] == \"18\":\r\n",
        "        if (fl2_start_list[i] <= fl2_end_list[j]) and (fl2_end_list[i] >= fl2_start_list[j]):\r\n",
        "          if i not in Trash_list:\r\n",
        "            Trash_list.append(i)\r\n",
        "            \r\n",
        "\r\n",
        "      if fl2_chr_list[i] == \"20\" and fl2_chr_list[j] == \"20\":\r\n",
        "        if (fl2_start_list[i] <= fl2_end_list[j]) and (fl2_end_list[i] >= fl2_start_list[j]):\r\n",
        "          if i not in Trash_list:\r\n",
        "            Trash_list.append(i)\r\n",
        "            \r\n",
        "\r\n",
        "      if fl2_chr_list[i] == \"19\" and fl2_chr_list[j] == \"19\":\r\n",
        "        if (fl2_start_list[i] <= fl2_end_list[j]) and (fl2_end_list[i] >= fl2_start_list[j]):\r\n",
        "          if i not in Trash_list:\r\n",
        "            Trash_list.append(i)\r\n",
        "            \r\n",
        "\r\n",
        "      if fl2_chr_list[i] == \"Y\" and fl2_chr_list[j] == \"Y\":\r\n",
        "        if (fl2_start_list[i] <= fl2_end_list[j]) and (fl2_end_list[i] >= fl2_start_list[j]):\r\n",
        "          if i not in Trash_list:\r\n",
        "            Trash_list.append(i)\r\n",
        "            \r\n",
        "\r\n",
        "      if fl2_chr_list[i] == \"22\" and fl2_chr_list[j] == \"22\":\r\n",
        "        if (fl2_start_list[i] <= fl2_end_list[j]) and (fl2_end_list[i] >= fl2_start_list[j]):\r\n",
        "          if i not in Trash_list:\r\n",
        "            Trash_list.append(i)\r\n",
        "            \r\n",
        "\r\n",
        "      if fl2_chr_list[i] == \"21\" and fl2_chr_list[j] == \"21\":\r\n",
        "        if (fl2_start_list[i] <= fl2_end_list[j]) and (fl2_end_list[i] >= fl2_start_list[j]):\r\n",
        "          if i not in Trash_list:\r\n",
        "            Trash_list.append(i)\r\n",
        "\r\n",
        "\r\n",
        "  return Trash_list"
      ],
      "execution_count": null,
      "outputs": []
    },
    {
      "cell_type": "markdown",
      "metadata": {
        "id": "mFXlDGPvhqva"
      },
      "source": [
        "# Gene Overlap Method - Strand Specific Version"
      ]
    },
    {
      "cell_type": "code",
      "metadata": {
        "id": "V7ctqUpVhqRw"
      },
      "source": [
        "def GeneOverlap(fl2):\r\n",
        "  Trash_list = []\r\n",
        "\r\n",
        "  fl2_chr_list = fl2[\"Chromosome_Name\"].tolist()\r\n",
        "  fl2_start_list = fl2[\"Start\"].tolist()\r\n",
        "  fl2_end_list = fl2[\"End\"].tolist()\r\n",
        "  fl2_strand_list = fl2[\"Strand\"].tolist()\r\n",
        "\r\n",
        "  for i in range(0, len(fl2)- 1):\r\n",
        "    for j in range(i+1, len(fl2)):\r\n",
        "\r\n",
        "      if fl2_chr_list[i] == \"1\" and fl2_chr_list[j] == \"1\" and fl2_strand_list[i] == fl2_strand_list[j]:\r\n",
        "        if (fl2_start_list[i] <= fl2_end_list[j]) and (fl2_end_list[i] >= fl2_start_list[j]):\r\n",
        "          if i not in Trash_list:\r\n",
        "            Trash_list.append(i)\r\n",
        "    \r\n",
        "      if fl2_chr_list[i] == \"2\" and fl2_chr_list[j] == \"2\" and fl2_strand_list[i] == fl2_strand_list[j]:\r\n",
        "        if (fl2_start_list[i] <= fl2_end_list[j]) and (fl2_end_list[i] >= fl2_start_list[j]):\r\n",
        "          if i not in Trash_list:\r\n",
        "            Trash_list.append(i)\r\n",
        "\r\n",
        "      if fl2_chr_list[i] == \"3\" and fl2_chr_list[j] == \"3\" and fl2_strand_list[i] == fl2_strand_list[j]:\r\n",
        "        if (fl2_start_list[i] <= fl2_end_list[j]) and (fl2_end_list[i] >= fl2_start_list[j]):\r\n",
        "          if i not in Trash_list:\r\n",
        "            Trash_list.append(i)\r\n",
        "\r\n",
        "      if fl2_chr_list[i] == \"4\" and fl2_chr_list[j] == \"4\" and fl2_strand_list[i] == fl2_strand_list[j]:\r\n",
        "        if (fl2_start_list[i] <= fl2_end_list[j]) and (fl2_end_list[i] >= fl2_start_list[j]):\r\n",
        "          if i not in Trash_list:\r\n",
        "            Trash_list.append(i)\r\n",
        "\r\n",
        "      if fl2_chr_list[i] == \"5\" and fl2_chr_list[j] == \"5\" and fl2_strand_list[i] == fl2_strand_list[j]:\r\n",
        "        if (fl2_start_list[i] <= fl2_end_list[j]) and (fl2_end_list[i] >= fl2_start_list[j]):\r\n",
        "          if i not in Trash_list:\r\n",
        "            Trash_list.append(i)\r\n",
        "\r\n",
        "      if fl2_chr_list[i] == \"6\" and fl2_chr_list[j] == \"6\" and fl2_strand_list[i] == fl2_strand_list[j]:\r\n",
        "        if (fl2_start_list[i] <= fl2_end_list[j]) and (fl2_end_list[i] >= fl2_start_list[j]):\r\n",
        "          if i not in Trash_list:\r\n",
        "            Trash_list.append(i)\r\n",
        "\r\n",
        "      if fl2_chr_list[i] == \"7\" and fl2_chr_list[j] == \"7\" and fl2_strand_list[i] == fl2_strand_list[j]:\r\n",
        "        if (fl2_start_list[i] <= fl2_end_list[j]) and (fl2_end_list[i] >= fl2_start_list[j]):\r\n",
        "          if i not in Trash_list:\r\n",
        "            Trash_list.append(i)\r\n",
        "\r\n",
        "      if fl2_chr_list[i] == \"X\" and fl2_chr_list[j] == \"X\" and fl2_strand_list[i] == fl2_strand_list[j]:\r\n",
        "        if (fl2_start_list[i] <= fl2_end_list[j]) and (fl2_end_list[i] >= fl2_start_list[j]):\r\n",
        "          if i not in Trash_list:\r\n",
        "            Trash_list.append(i)\r\n",
        "\r\n",
        "      if fl2_chr_list[i] == \"8\" and fl2_chr_list[j] == \"8\" and fl2_strand_list[i] == fl2_strand_list[j]:\r\n",
        "        if (fl2_start_list[i] <= fl2_end_list[j]) and (fl2_end_list[i] >= fl2_start_list[j]):\r\n",
        "          if i not in Trash_list:\r\n",
        "            Trash_list.append(i)\r\n",
        "\r\n",
        "      if fl2_chr_list[i] == \"9\" and fl2_chr_list[j] == \"9\" and fl2_strand_list[i] == fl2_strand_list[j]:\r\n",
        "        if (fl2_start_list[i] <= fl2_end_list[j]) and (fl2_end_list[i] >= fl2_start_list[j]):\r\n",
        "          if i not in Trash_list:\r\n",
        "            Trash_list.append(i)\r\n",
        "\r\n",
        "      if fl2_chr_list[i] == \"10\" and fl2_chr_list[j] == \"10\" and fl2_strand_list[i] == fl2_strand_list[j]:\r\n",
        "        if (fl2_start_list[i] <= fl2_end_list[j]) and (fl2_end_list[i] >= fl2_start_list[j]):\r\n",
        "          if i not in Trash_list:\r\n",
        "            Trash_list.append(i)\r\n",
        "\r\n",
        "      if fl2_chr_list[i] == \"11\" and fl2_chr_list[j] == \"11\" and fl2_strand_list[i] == fl2_strand_list[j]:\r\n",
        "        if (fl2_start_list[i] <= fl2_end_list[j]) and (fl2_end_list[i] >= fl2_start_list[j]):\r\n",
        "          if i not in Trash_list:\r\n",
        "            Trash_list.append(i)\r\n",
        "\r\n",
        "      if fl2_chr_list[i] == \"12\" and fl2_chr_list[j] == \"12\" and fl2_strand_list[i] == fl2_strand_list[j]:\r\n",
        "        if (fl2_start_list[i] <= fl2_end_list[j]) and (fl2_end_list[i] >= fl2_start_list[j]):\r\n",
        "          if i not in Trash_list:\r\n",
        "            Trash_list.append(i)\r\n",
        "\r\n",
        "      if fl2_chr_list[i] == \"13\" and fl2_chr_list[j] == \"13\" and fl2_strand_list[i] == fl2_strand_list[j]:\r\n",
        "        if (fl2_start_list[i] <= fl2_end_list[j]) and (fl2_end_list[i] >= fl2_start_list[j]):\r\n",
        "          if i not in Trash_list:\r\n",
        "            Trash_list.append(i)\r\n",
        "\r\n",
        "      if fl2_chr_list[i] == \"14\" and fl2_chr_list[j] == \"14\" and fl2_strand_list[i] == fl2_strand_list[j]:\r\n",
        "        if (fl2_start_list[i] <= fl2_end_list[j]) and (fl2_end_list[i] >= fl2_start_list[j]):\r\n",
        "          if i not in Trash_list:\r\n",
        "            Trash_list.append(i)\r\n",
        "\r\n",
        "      if fl2_chr_list[i] == \"15\" and fl2_chr_list[j] == \"15\" and fl2_strand_list[i] == fl2_strand_list[j]:\r\n",
        "        if (fl2_start_list[i] <= fl2_end_list[j]) and (fl2_end_list[i] >= fl2_start_list[j]):\r\n",
        "          if i not in Trash_list:\r\n",
        "            Trash_list.append(i)\r\n",
        "\r\n",
        "      if fl2_chr_list[i] == \"16\" and fl2_chr_list[j] == \"16\" and fl2_strand_list[i] == fl2_strand_list[j]:\r\n",
        "        if (fl2_start_list[i] <= fl2_end_list[j]) and (fl2_end_list[i] >= fl2_start_list[j]):\r\n",
        "          if i not in Trash_list:\r\n",
        "            Trash_list.append(i)\r\n",
        "\r\n",
        "      if fl2_chr_list[i] == \"17\" and fl2_chr_list[j] == \"17\" and fl2_strand_list[i] == fl2_strand_list[j]:\r\n",
        "        if (fl2_start_list[i] <= fl2_end_list[j]) and (fl2_end_list[i] >= fl2_start_list[j]):\r\n",
        "          if i not in Trash_list:\r\n",
        "            Trash_list.append(i)\r\n",
        "\r\n",
        "      if fl2_chr_list[i] == \"18\" and fl2_chr_list[j] == \"18\" and fl2_strand_list[i] == fl2_strand_list[j]:\r\n",
        "        if (fl2_start_list[i] <= fl2_end_list[j]) and (fl2_end_list[i] >= fl2_start_list[j]):\r\n",
        "          if i not in Trash_list:\r\n",
        "            Trash_list.append(i)\r\n",
        "\r\n",
        "      if fl2_chr_list[i] == \"20\" and fl2_chr_list[j] == \"20\" and fl2_strand_list[i] == fl2_strand_list[j]:\r\n",
        "        if (fl2_start_list[i] <= fl2_end_list[j]) and (fl2_end_list[i] >= fl2_start_list[j]):\r\n",
        "          if i not in Trash_list:\r\n",
        "            Trash_list.append(i)\r\n",
        "\r\n",
        "      if fl2_chr_list[i] == \"19\" and fl2_chr_list[j] == \"19\" and fl2_strand_list[i] == fl2_strand_list[j]:\r\n",
        "        if (fl2_start_list[i] <= fl2_end_list[j]) and (fl2_end_list[i] >= fl2_start_list[j]):\r\n",
        "          if i not in Trash_list:\r\n",
        "            Trash_list.append(i)\r\n",
        "\r\n",
        "      if fl2_chr_list[i] == \"Y\" and fl2_chr_list[j] == \"Y\" and fl2_strand_list[i] == fl2_strand_list[j]:\r\n",
        "        if (fl2_start_list[i] <= fl2_end_list[j]) and (fl2_end_list[i] >= fl2_start_list[j]):\r\n",
        "          if i not in Trash_list:\r\n",
        "            Trash_list.append(i)\r\n",
        "\r\n",
        "      if fl2_chr_list[i] == \"22\" and fl2_chr_list[j] == \"22\" and fl2_strand_list[i] == fl2_strand_list[j]:\r\n",
        "        if (fl2_start_list[i] <= fl2_end_list[j]) and (fl2_end_list[i] >= fl2_start_list[j]):\r\n",
        "          if i not in Trash_list:\r\n",
        "            Trash_list.append(i)\r\n",
        "\r\n",
        "      if fl2_chr_list[i] == \"21\" and fl2_chr_list[j] == \"21\" and fl2_strand_list[i] == fl2_strand_list[j]:\r\n",
        "        if (fl2_start_list[i] <= fl2_end_list[j]) and (fl2_end_list[i] >= fl2_start_list[j]):\r\n",
        "          if i not in Trash_list:\r\n",
        "            Trash_list.append(i)\r\n",
        "\r\n",
        "  return Trash_list"
      ],
      "execution_count": null,
      "outputs": []
    },
    {
      "cell_type": "markdown",
      "metadata": {
        "id": "jjV0XaiA-S2o"
      },
      "source": [
        "# Check GeneOverlap results"
      ]
    },
    {
      "cell_type": "code",
      "metadata": {
        "id": "_gXc_rXAE-vR"
      },
      "source": [
        "fl2[\"Chromosome_Name\"].unique()"
      ],
      "execution_count": null,
      "outputs": []
    },
    {
      "cell_type": "code",
      "metadata": {
        "id": "ORYlNZpg-_fe"
      },
      "source": [
        "OverlappedGenes = GeneOverlap(fl2)\r\n",
        "print(OverlappedGenes)"
      ],
      "execution_count": null,
      "outputs": []
    },
    {
      "cell_type": "code",
      "metadata": {
        "id": "VeOR7Zd4NHUc"
      },
      "source": [
        "print(len(OverlappedGenes))"
      ],
      "execution_count": null,
      "outputs": []
    },
    {
      "cell_type": "code",
      "metadata": {
        "id": "_WwiE5SDUXuD"
      },
      "source": [
        "fl2.index"
      ],
      "execution_count": null,
      "outputs": []
    },
    {
      "cell_type": "code",
      "metadata": {
        "id": "n7w5Zv4kTHgz"
      },
      "source": [
        "fl2 = fl2.drop(OverlappedGenes)\r\n",
        "fl2"
      ],
      "execution_count": null,
      "outputs": []
    },
    {
      "cell_type": "code",
      "metadata": {
        "id": "9VkYvz-hZVxS"
      },
      "source": [
        "fl2.index"
      ],
      "execution_count": null,
      "outputs": []
    },
    {
      "cell_type": "code",
      "metadata": {
        "id": "-GYC_JadV4MP"
      },
      "source": [
        "DF4 = fl2.copy()\r\n",
        "DF4"
      ],
      "execution_count": null,
      "outputs": []
    },
    {
      "cell_type": "code",
      "metadata": {
        "id": "LOpqynE19Mah"
      },
      "source": [
        "DF4.loc[602:603]"
      ],
      "execution_count": null,
      "outputs": []
    },
    {
      "cell_type": "code",
      "metadata": {
        "id": "r6vfA3LA7z1c"
      },
      "source": [
        "del OverlappedGenes"
      ],
      "execution_count": null,
      "outputs": []
    },
    {
      "cell_type": "markdown",
      "metadata": {
        "id": "GlougFNF-rb0"
      },
      "source": [
        "# Selecting genes having at least 15000 base distance apart"
      ]
    },
    {
      "cell_type": "code",
      "metadata": {
        "id": "IrBNregl-PWh"
      },
      "source": [
        "Plus_DF = DF4[DF4[\"Strand\"] == \"+\"]\r\n",
        "Minus_DF = DF4[DF4[\"Strand\"] == \"-\"]"
      ],
      "execution_count": null,
      "outputs": []
    },
    {
      "cell_type": "code",
      "metadata": {
        "id": "t5DkvIGY-hj4"
      },
      "source": [
        "Plus_DF[\"Chromosome_Name_shifted\"] = Plus_DF[\"Chromosome_Name\"].shift(-1)\r\n",
        "Plus_DF[\"Start_shifted\"] = Plus_DF[\"Start\"].shift(-1)\r\n",
        "Plus_DF[\"End_shifted\"] = Plus_DF[\"End\"].shift(-1)"
      ],
      "execution_count": null,
      "outputs": []
    },
    {
      "cell_type": "code",
      "metadata": {
        "id": "upUojc4O-iID"
      },
      "source": [
        "Minus_DF[\"Chromosome_Name_shifted\"] = Minus_DF[\"Chromosome_Name\"].shift(-1)\r\n",
        "Minus_DF[\"Start_shifted\"] = Minus_DF[\"Start\"].shift(-1)\r\n",
        "Minus_DF[\"End_shifted\"] = Minus_DF[\"End\"].shift(-1)"
      ],
      "execution_count": null,
      "outputs": []
    },
    {
      "cell_type": "code",
      "metadata": {
        "id": "4JozaUkmI2EW"
      },
      "source": [
        "Minus_DF"
      ],
      "execution_count": null,
      "outputs": []
    },
    {
      "cell_type": "code",
      "metadata": {
        "id": "GDHCUncHfh6G"
      },
      "source": [
        "Plus_DF"
      ],
      "execution_count": null,
      "outputs": []
    },
    {
      "cell_type": "markdown",
      "metadata": {
        "id": "txHvbpR923r4"
      },
      "source": [
        "For Plus Strand"
      ]
    },
    {
      "cell_type": "code",
      "metadata": {
        "id": "l6OSW-C2h1XL"
      },
      "source": [
        "CHR_intersections_list = Plus_DF[Plus_DF[\"Chromosome_Name\"] != Plus_DF[\"Chromosome_Name_shifted\"]].index\r\n",
        "print(CHR_intersections_list)\r\n",
        "print(len(CHR_intersections_list))"
      ],
      "execution_count": null,
      "outputs": []
    },
    {
      "cell_type": "code",
      "metadata": {
        "id": "EbAaJXQHmoRf"
      },
      "source": [
        "Plus_DF[\"Chromosome_Name\"].unique()"
      ],
      "execution_count": null,
      "outputs": []
    },
    {
      "cell_type": "code",
      "metadata": {
        "id": "NM19OmeqizAL"
      },
      "source": [
        "CHR_list = ['1', '2', '3', '4', '5', '6', '7', 'X', '8', '9', '10', '11', '12', '13', '14', '15', '16', '17', '18', '20', '19', 'Y', '22', '21']\r\n",
        "\r\n",
        "for name, indexx in zip(CHR_list, CHR_intersections_list):\r\n",
        "  Plus_DF.loc[indexx, [\"Chromosome_Name_shifted\", \"Start_shifted\", \"End_shifted\"]] =  [name, 9999999999, 9999999999]"
      ],
      "execution_count": null,
      "outputs": []
    },
    {
      "cell_type": "code",
      "metadata": {
        "id": "LG_YXrxjjZ5N"
      },
      "source": [
        "Plus_DF[Plus_DF[\"Chromosome_Name\"] != Plus_DF[\"Chromosome_Name_shifted\"]].index"
      ],
      "execution_count": null,
      "outputs": []
    },
    {
      "cell_type": "code",
      "metadata": {
        "id": "4aTkT8gPu7nW"
      },
      "source": [
        "Plus_DF"
      ],
      "execution_count": null,
      "outputs": []
    },
    {
      "cell_type": "code",
      "metadata": {
        "id": "bt2hDMXxgCcA"
      },
      "source": [
        "Plus_GeneDiff_index = []\r\n",
        "c = 0\r\n",
        "\r\n",
        "for _, CHR_DF in Plus_DF.groupby(\"Chromosome_Name\"):\r\n",
        "  GeneDiff_index = CHR_DF[abs(CHR_DF[\"End\"] - CHR_DF[\"Start_shifted\"]) <= 15000].index\r\n",
        "  for index_el in GeneDiff_index:\r\n",
        "    Plus_GeneDiff_index.append(index_el)\r\n",
        "    c += 1\r\n",
        "\r\n",
        "print(c)"
      ],
      "execution_count": null,
      "outputs": []
    },
    {
      "cell_type": "code",
      "metadata": {
        "id": "EnBMOlIVBUut"
      },
      "source": [
        "print(Plus_GeneDiff_index)"
      ],
      "execution_count": null,
      "outputs": []
    },
    {
      "cell_type": "code",
      "metadata": {
        "id": "IuyV_pOwBjK-"
      },
      "source": [
        "print(len(Plus_GeneDiff_index))"
      ],
      "execution_count": null,
      "outputs": []
    },
    {
      "cell_type": "code",
      "metadata": {
        "id": "WmvNDzBdBp7N"
      },
      "source": [
        "Plus_Diff_DF = Plus_DF.drop(Plus_GeneDiff_index)\r\n",
        "\r\n",
        "Plus_Diff_DF"
      ],
      "execution_count": null,
      "outputs": []
    },
    {
      "cell_type": "code",
      "metadata": {
        "id": "q-TbES73EU3h"
      },
      "source": [
        "Plus_Diff_DF[Plus_Diff_DF[\"Chromosome_Name\"] != Plus_Diff_DF[\"Chromosome_Name_shifted\"]].index"
      ],
      "execution_count": null,
      "outputs": []
    },
    {
      "cell_type": "code",
      "metadata": {
        "id": "XNxpTimi2Uwx"
      },
      "source": [
        "del CHR_intersections_list, CHR_list, name, indexx, _, CHR_DF, GeneDiff_index, index_el, c, Plus_GeneDiff_index"
      ],
      "execution_count": null,
      "outputs": []
    },
    {
      "cell_type": "markdown",
      "metadata": {
        "id": "2aflx10IG1rQ"
      },
      "source": [
        "For Minus Strand"
      ]
    },
    {
      "cell_type": "code",
      "metadata": {
        "id": "gePeQzZaGSYF"
      },
      "source": [
        "CHR_intersections_list = Minus_DF[Minus_DF[\"Chromosome_Name\"] != Minus_DF[\"Chromosome_Name_shifted\"]].index\r\n",
        "print(CHR_intersections_list)\r\n",
        "print(len(CHR_intersections_list))"
      ],
      "execution_count": null,
      "outputs": []
    },
    {
      "cell_type": "code",
      "metadata": {
        "id": "vbhGw7b4FdoZ"
      },
      "source": [
        "CHR_list = ['1', '2', '3', '4', '5', '6', '7', 'X', '8', '9', '10', '11', '12', '13', '14', '15', '16', '17', '18', '20', '19', 'Y', '22', '21']\r\n",
        "\r\n",
        "for name, indexx in zip(CHR_list, CHR_intersections_list):\r\n",
        "  Minus_DF.loc[indexx, [\"Chromosome_Name_shifted\", \"Start_shifted\", \"End_shifted\"]] =  [name, 9999999999, 9999999999]"
      ],
      "execution_count": null,
      "outputs": []
    },
    {
      "cell_type": "code",
      "metadata": {
        "id": "IA9EYeJqGR87"
      },
      "source": [
        "Minus_DF[Minus_DF[\"Chromosome_Name\"] != Minus_DF[\"Chromosome_Name_shifted\"]].index"
      ],
      "execution_count": null,
      "outputs": []
    },
    {
      "cell_type": "code",
      "metadata": {
        "id": "x5N_K0avILjs"
      },
      "source": [
        "Minus_DF"
      ],
      "execution_count": null,
      "outputs": []
    },
    {
      "cell_type": "code",
      "metadata": {
        "id": "jAiWBLQ7FdaV"
      },
      "source": [
        "Minus_GeneDiff_index = []\r\n",
        "c = 0\r\n",
        "\r\n",
        "for _, CHR_DF in Minus_DF.groupby(\"Chromosome_Name\"):\r\n",
        "  GeneDiff_index = CHR_DF[abs(CHR_DF[\"End\"] - CHR_DF[\"Start_shifted\"]) <= 15000].index\r\n",
        "  for index_el in GeneDiff_index:\r\n",
        "    Minus_GeneDiff_index.append(index_el)\r\n",
        "    c += 1\r\n",
        "\r\n",
        "print(c)"
      ],
      "execution_count": null,
      "outputs": []
    },
    {
      "cell_type": "code",
      "metadata": {
        "id": "18qZCBM0FVQ0"
      },
      "source": [
        "Minus_Diff_DF = Minus_DF.drop(Minus_GeneDiff_index)\r\n",
        "\r\n",
        "Minus_Diff_DF"
      ],
      "execution_count": null,
      "outputs": []
    },
    {
      "cell_type": "code",
      "metadata": {
        "id": "vsaZnZBKHM1H"
      },
      "source": [
        "Minus_Diff_DF[Minus_Diff_DF[\"Chromosome_Name\"] != Minus_Diff_DF[\"Chromosome_Name_shifted\"]].index"
      ],
      "execution_count": null,
      "outputs": []
    },
    {
      "cell_type": "code",
      "metadata": {
        "id": "9qzyJgcD2ldJ"
      },
      "source": [
        "del CHR_intersections_list, CHR_list, name, indexx, _, CHR_DF, GeneDiff_index, index_el, c, Minus_GeneDiff_index"
      ],
      "execution_count": null,
      "outputs": []
    },
    {
      "cell_type": "code",
      "metadata": {
        "id": "A1FBZAoI4H4V"
      },
      "source": [
        "Minus_Diff_DF[\"Chromosome_Name\"].unique()"
      ],
      "execution_count": null,
      "outputs": []
    },
    {
      "cell_type": "code",
      "metadata": {
        "id": "ww-z6-Z1JjGw"
      },
      "source": [
        "Minus_Diff_DF.loc[6633]"
      ],
      "execution_count": null,
      "outputs": []
    },
    {
      "cell_type": "markdown",
      "metadata": {
        "id": "VG3wDdPI-otJ"
      },
      "source": [
        "# Merge Plus and Minus stranded Genes together"
      ]
    },
    {
      "cell_type": "code",
      "metadata": {
        "id": "eEgfG5LzMJsx"
      },
      "source": [
        "Filtered_DF = pd.concat([Plus_Diff_DF, Minus_Diff_DF], ignore_index=False, sort=False)"
      ],
      "execution_count": null,
      "outputs": []
    },
    {
      "cell_type": "code",
      "metadata": {
        "id": "HGIT0isS6LBl"
      },
      "source": [
        "Filtered_DF"
      ],
      "execution_count": null,
      "outputs": []
    },
    {
      "cell_type": "code",
      "metadata": {
        "id": "cJU5DOAo5TKz"
      },
      "source": [
        "del Filtered_DF[\"Chromosome_Name_shifted\"], Filtered_DF[\"Start_shifted\"], Filtered_DF[\"End_shifted\"]"
      ],
      "execution_count": null,
      "outputs": []
    },
    {
      "cell_type": "code",
      "metadata": {
        "id": "M9O5zGkyMu6b"
      },
      "source": [
        "Filtered_DF"
      ],
      "execution_count": null,
      "outputs": []
    },
    {
      "cell_type": "code",
      "metadata": {
        "id": "3tKBvkCC44jO"
      },
      "source": [
        "Filtered_sorted_DF = Filtered_DF.sort_index()"
      ],
      "execution_count": null,
      "outputs": []
    },
    {
      "cell_type": "code",
      "metadata": {
        "id": "K3og-ITCmLDR"
      },
      "source": [
        "Filtered_sorted_DF = Filtered_sorted_DF.reset_index(drop=True)"
      ],
      "execution_count": null,
      "outputs": []
    },
    {
      "cell_type": "code",
      "metadata": {
        "id": "3BpSloIx5Lcm"
      },
      "source": [
        "Filtered_sorted_DF"
      ],
      "execution_count": null,
      "outputs": []
    },
    {
      "cell_type": "markdown",
      "metadata": {
        "id": "ZZMB69fd6_0m"
      },
      "source": [
        "# Check Gene Overlaps agan in the new DataFrame"
      ]
    },
    {
      "cell_type": "code",
      "metadata": {
        "id": "_Qd0HmIN69zl"
      },
      "source": [
        "OverlappedGenes = GeneOverlap(Filtered_sorted_DF)\r\n",
        "print(OverlappedGenes)"
      ],
      "execution_count": null,
      "outputs": []
    },
    {
      "cell_type": "code",
      "metadata": {
        "id": "YofnVjXv7-cR"
      },
      "source": [
        "print(len(OverlappedGenes))"
      ],
      "execution_count": null,
      "outputs": []
    },
    {
      "cell_type": "code",
      "metadata": {
        "id": "E1sd119I8A9G"
      },
      "source": [
        "Filtered_sorted_DF.index"
      ],
      "execution_count": null,
      "outputs": []
    },
    {
      "cell_type": "code",
      "metadata": {
        "id": "Zc98clyB8DK4"
      },
      "source": [
        "del OverlappedGenes"
      ],
      "execution_count": null,
      "outputs": []
    },
    {
      "cell_type": "markdown",
      "metadata": {
        "id": "cQsRbi1L9HRu"
      },
      "source": [
        "Beware! Do not use below section if there is no overlapped genes at \r\n",
        "\r\n",
        "```\r\n",
        "OverlappedGenes list.\r\n",
        "```\r\n"
      ]
    },
    {
      "cell_type": "code",
      "metadata": {
        "id": "ytI7y6X38C0I"
      },
      "source": [
        "Filtered_sorted_DF = Filtered_sorted_DF.drop(OverlappedGenes)\r\n",
        "Filtered_sorted_DF"
      ],
      "execution_count": null,
      "outputs": []
    },
    {
      "cell_type": "code",
      "metadata": {
        "id": "W8pUfL7G8Dd7"
      },
      "source": [
        "Filtered_sorted_DF.index"
      ],
      "execution_count": null,
      "outputs": []
    },
    {
      "cell_type": "markdown",
      "metadata": {
        "id": "MNZvw4ti9xuR"
      },
      "source": [
        "# Write _Filtered_sorted_DF_ as a csv file."
      ]
    },
    {
      "cell_type": "code",
      "metadata": {
        "id": "xyCZQ7D92MxU"
      },
      "source": [
        "Filtered_sorted_DF"
      ],
      "execution_count": null,
      "outputs": []
    },
    {
      "cell_type": "code",
      "metadata": {
        "id": "B8uZcdkh2Sr6"
      },
      "source": [
        "Filtered_sorted_DF[\"Gene_Name\"] = Filtered_sorted_DF[\"Gene_Name\"].str.replace('\"','')"
      ],
      "execution_count": null,
      "outputs": []
    },
    {
      "cell_type": "code",
      "metadata": {
        "id": "8ZAkrFXoJ2W3"
      },
      "source": [
        "Filtered_sorted_DF[\"Gene_ID\"] = Filtered_sorted_DF[\"Gene_ID\"].str.replace('\"','')"
      ],
      "execution_count": null,
      "outputs": []
    },
    {
      "cell_type": "code",
      "metadata": {
        "id": "BBQrp6Ea24FX"
      },
      "source": [
        "Filtered_sorted_DF"
      ],
      "execution_count": null,
      "outputs": []
    },
    {
      "cell_type": "code",
      "metadata": {
        "id": "brh0mEs29-TI"
      },
      "source": [
        "Filtered_sorted_DF.to_csv(\"/content/drive/MyDrive/Scripts/Data/Filtered_sorted_WGS_GeneAnnotation.csv\", sep='\\t', header = col_headers , index=False)"
      ],
      "execution_count": null,
      "outputs": []
    },
    {
      "cell_type": "markdown",
      "metadata": {
        "id": "5kX23KKu3Rxv"
      },
      "source": [
        "# For creating files:\r\n",
        "\r\n",
        "1) 5kb Upstream of TSS\r\n",
        "\r\n",
        "2) 5kb Downstream of TSS\r\n",
        "\r\n",
        "3) 5kb Upstream of TES\r\n",
        "\r\n",
        "4) Intergenics"
      ]
    },
    {
      "cell_type": "markdown",
      "metadata": {
        "id": "2cP0JIIG41J7"
      },
      "source": [
        "## For 5kb Upstream TSS\r\n",
        "\r\n",
        "Data Structure should look like:\r\n",
        "\r\n",
        "Chr#   (TSS-5000)   TSS   +    .   .   .\r\n",
        "\r\n",
        "Chr#   TES   (TES + 5000)   -   .   .   ."
      ]
    },
    {
      "cell_type": "code",
      "metadata": {
        "id": "7NTnvu4uVB0d"
      },
      "source": [
        "Plus_filtered_DF = Filtered_sorted_DF[(Filtered_sorted_DF[\"Strand\"] == \"+\")]\r\n",
        "Minus_filtered_DF = Filtered_sorted_DF[(Filtered_sorted_DF[\"Strand\"] == \"-\")]"
      ],
      "execution_count": null,
      "outputs": []
    },
    {
      "cell_type": "code",
      "metadata": {
        "id": "YtyUjo9ZWjbL"
      },
      "source": [
        "Filtered_sorted_DF"
      ],
      "execution_count": null,
      "outputs": []
    },
    {
      "cell_type": "code",
      "metadata": {
        "id": "ZkDUXdgrWb2i"
      },
      "source": [
        "Plus_filtered_DF"
      ],
      "execution_count": null,
      "outputs": []
    },
    {
      "cell_type": "code",
      "metadata": {
        "id": "NL0eECa_aOK7"
      },
      "source": [
        "Minus_filtered_DF"
      ],
      "execution_count": null,
      "outputs": []
    },
    {
      "cell_type": "code",
      "metadata": {
        "id": "O2jkVxU1YKon"
      },
      "source": [
        "Plus_Nstart_col = pd.to_numeric(Plus_filtered_DF[\"Start\"]) - 5000"
      ],
      "execution_count": null,
      "outputs": []
    },
    {
      "cell_type": "code",
      "metadata": {
        "id": "7Q88UEcIYhst"
      },
      "source": [
        "Plus_Nstart_col"
      ],
      "execution_count": null,
      "outputs": []
    },
    {
      "cell_type": "code",
      "metadata": {
        "id": "oHtguW-kavq5"
      },
      "source": [
        "Minus_Nend_col = pd.to_numeric(Minus_filtered_DF[\"End\"]) + 5000"
      ],
      "execution_count": null,
      "outputs": []
    },
    {
      "cell_type": "code",
      "metadata": {
        "id": "QCxl0HHvbNIo"
      },
      "source": [
        "Minus_Nend_col"
      ],
      "execution_count": null,
      "outputs": []
    },
    {
      "cell_type": "markdown",
      "metadata": {
        "id": "q2-2xWUUmfil"
      },
      "source": [
        "Edit column values"
      ]
    },
    {
      "cell_type": "code",
      "metadata": {
        "id": "EYoxm3lRdWGZ"
      },
      "source": [
        "Plus_filtered_DF[\"End\"] = Plus_filtered_DF[\"Start\"]\r\n",
        "Plus_filtered_DF[\"Start\"] = Plus_Nstart_col\r\n",
        "Plus_filtered_DF"
      ],
      "execution_count": null,
      "outputs": []
    },
    {
      "cell_type": "code",
      "metadata": {
        "id": "yA8jRfVDgW1g"
      },
      "source": [
        "Minus_filtered_DF[\"Start\"] = Minus_filtered_DF[\"End\"]\r\n",
        "Minus_filtered_DF[\"End\"] = Minus_Nend_col\r\n",
        "Minus_filtered_DF"
      ],
      "execution_count": null,
      "outputs": []
    },
    {
      "cell_type": "markdown",
      "metadata": {
        "id": "z0HGIpirh43l"
      },
      "source": [
        "Merge Plus and Minus Dataframes"
      ]
    },
    {
      "cell_type": "code",
      "metadata": {
        "id": "BncGaOXNcz1q"
      },
      "source": [
        "UTSS_DF = pd.concat([Plus_filtered_DF, Minus_filtered_DF], ignore_index=False, sort=False)\r\n",
        "\r\n",
        "UTSS_sorted_DF = UTSS_DF.sort_index()\r\n",
        "UTSS_sorted_DF"
      ],
      "execution_count": null,
      "outputs": []
    },
    {
      "cell_type": "code",
      "metadata": {
        "id": "FbEdUwEtj0y1"
      },
      "source": [
        "del Plus_filtered_DF, Plus_Nstart_col, Minus_filtered_DF, Minus_Nend_col, UTSS_DF"
      ],
      "execution_count": null,
      "outputs": []
    },
    {
      "cell_type": "markdown",
      "metadata": {
        "id": "Q69j-8oC5hW4"
      },
      "source": [
        "## For 5kb Downstream TSS\r\n",
        "\r\n",
        "Data Structure should look like:\r\n",
        "\r\n",
        "Chr#   TSS   (TSS + 5000)   +   .   .   .\r\n",
        "\r\n",
        "Chr#   (TES - 5000)   TES   -   .   .   ."
      ]
    },
    {
      "cell_type": "code",
      "metadata": {
        "id": "OtBauMZnnN9k"
      },
      "source": [
        "Plus_filtered_DF = Filtered_sorted_DF[(Filtered_sorted_DF[\"Strand\"] == \"+\")]\r\n",
        "Minus_filtered_DF = Filtered_sorted_DF[(Filtered_sorted_DF[\"Strand\"] == \"-\")]"
      ],
      "execution_count": null,
      "outputs": []
    },
    {
      "cell_type": "code",
      "metadata": {
        "id": "tKkNtCI-nNzM"
      },
      "source": [
        "Filtered_sorted_DF"
      ],
      "execution_count": null,
      "outputs": []
    },
    {
      "cell_type": "code",
      "metadata": {
        "id": "jUO0t_6QmXsk"
      },
      "source": [
        "Plus_Nstart_col = pd.to_numeric(Plus_filtered_DF[\"Start\"]) + 5000"
      ],
      "execution_count": null,
      "outputs": []
    },
    {
      "cell_type": "code",
      "metadata": {
        "id": "UY3dIM9hnRL7"
      },
      "source": [
        "Plus_Nstart_col"
      ],
      "execution_count": null,
      "outputs": []
    },
    {
      "cell_type": "code",
      "metadata": {
        "id": "XKinysJImXg9"
      },
      "source": [
        "Minus_Nend_col = pd.to_numeric(Minus_filtered_DF[\"End\"]) - 5000"
      ],
      "execution_count": null,
      "outputs": []
    },
    {
      "cell_type": "code",
      "metadata": {
        "id": "SbIZNTk8nRXc"
      },
      "source": [
        "Minus_Nend_col"
      ],
      "execution_count": null,
      "outputs": []
    },
    {
      "cell_type": "markdown",
      "metadata": {
        "id": "eYd3-KoFmb0L"
      },
      "source": [
        "Edit column values"
      ]
    },
    {
      "cell_type": "code",
      "metadata": {
        "id": "Jy9tR99FmXSC"
      },
      "source": [
        "Plus_filtered_DF[\"End\"] = Plus_Nstart_col\r\n",
        "Plus_filtered_DF"
      ],
      "execution_count": null,
      "outputs": []
    },
    {
      "cell_type": "code",
      "metadata": {
        "id": "BJIPLHgP6ELZ"
      },
      "source": [
        "Minus_filtered_DF[\"Start\"] = Minus_Nend_col\r\n",
        "Minus_filtered_DF"
      ],
      "execution_count": null,
      "outputs": []
    },
    {
      "cell_type": "markdown",
      "metadata": {
        "id": "P_rvIWa0lPC9"
      },
      "source": [
        "Merge Plus and Minus Dataframes"
      ]
    },
    {
      "cell_type": "code",
      "metadata": {
        "id": "TjPoGDjglQNS"
      },
      "source": [
        "DTSS_DF = pd.concat([Plus_filtered_DF, Minus_filtered_DF], ignore_index=False, sort=False)\r\n",
        "\r\n",
        "DTSS_sorted_DF = DTSS_DF.sort_index()\r\n",
        "DTSS_sorted_DF"
      ],
      "execution_count": null,
      "outputs": []
    },
    {
      "cell_type": "code",
      "metadata": {
        "id": "kG34RI8YmRjX"
      },
      "source": [
        "del Plus_filtered_DF, Plus_Nstart_col, Minus_filtered_DF, Minus_Nend_col, DTSS_DF"
      ],
      "execution_count": null,
      "outputs": []
    },
    {
      "cell_type": "markdown",
      "metadata": {
        "id": "p-ZbMtVU6Hiz"
      },
      "source": [
        "## For 5kb Upstream TES\r\n",
        "\r\n",
        "Data Structure should look like:\r\n",
        "\r\n",
        "Chr#   TES - 5000   TES   +   .   .   .\r\n",
        "\r\n",
        "Chr#   TSS  TSS + 5000   -   .   .   ."
      ]
    },
    {
      "cell_type": "code",
      "metadata": {
        "id": "XBC1wD8yox3Q"
      },
      "source": [
        "Plus_filtered_DF = Filtered_sorted_DF[(Filtered_sorted_DF[\"Strand\"] == \"+\")]\r\n",
        "Minus_filtered_DF = Filtered_sorted_DF[(Filtered_sorted_DF[\"Strand\"] == \"-\")]"
      ],
      "execution_count": null,
      "outputs": []
    },
    {
      "cell_type": "code",
      "metadata": {
        "id": "DUF3MxILox3a"
      },
      "source": [
        "Filtered_sorted_DF"
      ],
      "execution_count": null,
      "outputs": []
    },
    {
      "cell_type": "code",
      "metadata": {
        "id": "o8nyir_gox3b"
      },
      "source": [
        "Plus_Nend_col = pd.to_numeric(Plus_filtered_DF[\"End\"]) - 5000"
      ],
      "execution_count": null,
      "outputs": []
    },
    {
      "cell_type": "code",
      "metadata": {
        "id": "HahtTsYPox3b"
      },
      "source": [
        "Plus_Nend_col"
      ],
      "execution_count": null,
      "outputs": []
    },
    {
      "cell_type": "code",
      "metadata": {
        "id": "tWqD4rdeox3b"
      },
      "source": [
        "Minus_Nstart_col = pd.to_numeric(Minus_filtered_DF[\"Start\"]) + 5000"
      ],
      "execution_count": null,
      "outputs": []
    },
    {
      "cell_type": "code",
      "metadata": {
        "id": "vl03wWPUox3b"
      },
      "source": [
        "Minus_Nstart_col"
      ],
      "execution_count": null,
      "outputs": []
    },
    {
      "cell_type": "markdown",
      "metadata": {
        "id": "8jhg0IsXox3c"
      },
      "source": [
        "Edit column values"
      ]
    },
    {
      "cell_type": "code",
      "metadata": {
        "id": "A36UjJbCox3c"
      },
      "source": [
        "Plus_filtered_DF[\"Start\"] = Plus_Nend_col\r\n",
        "Plus_filtered_DF"
      ],
      "execution_count": null,
      "outputs": []
    },
    {
      "cell_type": "code",
      "metadata": {
        "id": "6cudI-EIox3c"
      },
      "source": [
        "Minus_filtered_DF[\"End\"] = Minus_Nstart_col\r\n",
        "Minus_filtered_DF"
      ],
      "execution_count": null,
      "outputs": []
    },
    {
      "cell_type": "markdown",
      "metadata": {
        "id": "_TVwq8Irox3c"
      },
      "source": [
        "Merge Plus and Minus Dataframes"
      ]
    },
    {
      "cell_type": "code",
      "metadata": {
        "id": "L-d6td3aox3c"
      },
      "source": [
        "UTES_DF = pd.concat([Plus_filtered_DF, Minus_filtered_DF], ignore_index=False, sort=False)\r\n",
        "\r\n",
        "UTES_sorted_DF = UTES_DF.sort_index()\r\n",
        "UTES_sorted_DF"
      ],
      "execution_count": null,
      "outputs": []
    },
    {
      "cell_type": "code",
      "metadata": {
        "id": "b-sFwMHdox3d"
      },
      "source": [
        "del Plus_filtered_DF, Plus_Nend_col, Minus_filtered_DF, Minus_Nstart_col, UTES_DF"
      ],
      "execution_count": null,
      "outputs": []
    },
    {
      "cell_type": "markdown",
      "metadata": {
        "id": "vx6aJDan3r7s"
      },
      "source": [
        "# For finding intergenics region, apply the below code for acquiring whole genes including the regulatory sites as well."
      ]
    },
    {
      "cell_type": "code",
      "metadata": {
        "id": "snbs94S68Cai"
      },
      "source": [
        "del fl3, rline, column"
      ],
      "execution_count": null,
      "outputs": []
    },
    {
      "cell_type": "markdown",
      "metadata": {
        "id": "om0TwfYT8ePw"
      },
      "source": [
        "Extend genes toward their TSS region for discluing regulatory region before attaining intergenic regions."
      ]
    },
    {
      "cell_type": "code",
      "metadata": {
        "id": "GPRT6gzp3RQD"
      },
      "source": [
        "fl3 = open(\"/content/drive/MyDrive/Scripts/Data/Filtered_sorted_WGS_GeneAnnotation.csv\", \"r\")\r\n",
        "\r\n",
        "fl3_list = []\r\n",
        "\r\n",
        "for rline in fl3:\r\n",
        "  column = rline.split(\"\\t\")\r\n",
        "\r\n",
        "  if column[5] == \"+\":\r\n",
        "    column[3] = int(column[3]) - 5000\r\n",
        "    fl3_list.append([column[0], column[3], column[4], column[5], column[7]])\r\n",
        "\r\n",
        "  elif column[5] == \"-\":\r\n",
        "    column[4] = int(column[4]) + 5000\r\n",
        "    fl3_list.append([column[0], column[3], column[4], column[5], column[7]])\r\n",
        "\r\n",
        "fl3.close()"
      ],
      "execution_count": null,
      "outputs": []
    },
    {
      "cell_type": "code",
      "metadata": {
        "id": "OTiUCzg7PE0k"
      },
      "source": [
        "del fl3, rline, column"
      ],
      "execution_count": null,
      "outputs": []
    },
    {
      "cell_type": "code",
      "metadata": {
        "id": "7WWOFBXqM96_"
      },
      "source": [
        "fl3_DF = pd.DataFrame(fl3_list, columns= [\"Chromosome_Name\", \"Start\", \"End\", \"Strand\", \"Gene_Name\"])"
      ],
      "execution_count": null,
      "outputs": []
    },
    {
      "cell_type": "code",
      "metadata": {
        "id": "vKbEOVTx9gcF"
      },
      "source": [
        "del fl3_list"
      ],
      "execution_count": null,
      "outputs": []
    },
    {
      "cell_type": "code",
      "metadata": {
        "id": "kSVFyPWE89wr"
      },
      "source": [
        "fl3_DF"
      ],
      "execution_count": null,
      "outputs": []
    },
    {
      "cell_type": "markdown",
      "metadata": {
        "id": "33an1LWwVCy6"
      },
      "source": [
        "Remove unnecessary characters from the dataframe, if exist.\r\n"
      ]
    },
    {
      "cell_type": "code",
      "metadata": {
        "id": "B3cFZoCqOCwO"
      },
      "source": [
        "fl3_DF[\"Gene_Name\"] = fl3_DF[\"Gene_Name\"].str.replace('\"', '').str.replace('\\\\n$','')"
      ],
      "execution_count": null,
      "outputs": []
    },
    {
      "cell_type": "code",
      "metadata": {
        "id": "F8rzEY6qVPUK"
      },
      "source": [
        "fl3_DF"
      ],
      "execution_count": null,
      "outputs": []
    },
    {
      "cell_type": "markdown",
      "metadata": {
        "id": "ekAX0YDJU-Cx"
      },
      "source": [
        "Add \"chr\" suffix to the beginning of  chromosome name."
      ]
    },
    {
      "cell_type": "code",
      "metadata": {
        "id": "H2tfwHXRU7-G"
      },
      "source": [
        "fl3_DF[\"Chromosome_Name\"] = fl3_DF[\"Chromosome_Name\"].apply(lambda x: f\"chr{x}\")"
      ],
      "execution_count": null,
      "outputs": []
    },
    {
      "cell_type": "code",
      "metadata": {
        "id": "V_kt8Hbh9dDU"
      },
      "source": [
        "fl3_DF"
      ],
      "execution_count": null,
      "outputs": []
    },
    {
      "cell_type": "markdown",
      "metadata": {
        "id": "lxxCi9_wXMpn"
      },
      "source": [
        "# Discard genes coordinates, which are excluded in 5kb divided reference genome and create regulatory sites extended genes."
      ]
    },
    {
      "cell_type": "code",
      "metadata": {
        "id": "BJSATDxVN8Sf"
      },
      "source": [
        "Ref_Gen_DF = pd.read_csv(\"/content/drive/MyDrive/Scripts/Data/5kb_divided_hg19.bed\", delimiter=\"\\t\", header=None)\r\n",
        "Ref_Gen_DF"
      ],
      "execution_count": null,
      "outputs": []
    },
    {
      "cell_type": "code",
      "metadata": {
        "id": "bfCqAmvEnIns"
      },
      "source": [
        "Ref_Gen_DF[0] = Ref_Gen_DF[0].str.replace('chrM', 'chrY')"
      ],
      "execution_count": null,
      "outputs": []
    },
    {
      "cell_type": "markdown",
      "metadata": {
        "id": "L2QKPiR7x61B"
      },
      "source": [
        "Create a list of chromosome numbers"
      ]
    },
    {
      "cell_type": "code",
      "metadata": {
        "id": "ENu7BDXRNXxn"
      },
      "source": [
        "chr_name_list = Ref_Gen_DF[0].unique().tolist()\r\n",
        "chr_name_list"
      ],
      "execution_count": null,
      "outputs": []
    },
    {
      "cell_type": "markdown",
      "metadata": {
        "id": "YSYoWpdex-w2"
      },
      "source": [
        "Create a dictionary in which keys are chromosome names and values are number of genes for each given chromosome."
      ]
    },
    {
      "cell_type": "code",
      "metadata": {
        "id": "RTUKZEvlkVx9"
      },
      "source": [
        "index_num_dict = {}\r\n",
        "\r\n",
        "for loop in chr_name_list:\r\n",
        "  index_num = len(Ref_Gen_DF[Ref_Gen_DF[0] == loop])\r\n",
        "  index_num_dict[loop] = index_num\r\n",
        "\r\n",
        "print(index_num_dict)"
      ],
      "execution_count": null,
      "outputs": []
    },
    {
      "cell_type": "code",
      "metadata": {
        "id": "Irt_11FFR9d-"
      },
      "source": [
        "del loop, index_num"
      ],
      "execution_count": null,
      "outputs": []
    },
    {
      "cell_type": "markdown",
      "metadata": {
        "id": "E-PITKyTyQeV"
      },
      "source": [
        "Store the last element of each chromosome group by adding number of genes (rows) of every chromosome iteratively until the given chromosome's last element."
      ]
    },
    {
      "cell_type": "code",
      "metadata": {
        "id": "unKbIPIBTKTC"
      },
      "source": [
        "total = 0\r\n",
        "end_coord_list = []\r\n",
        "\r\n",
        "for dict_key, dict_value in index_num_dict.items():\r\n",
        "  total = total + dict_value\r\n",
        "  if dict_key == \"chr1\":\r\n",
        "    end_coord_list.append(Ref_Gen_DF.loc[total - 1, 2])\r\n",
        "  if dict_key == \"chr2\":\r\n",
        "    end_coord_list.append(Ref_Gen_DF.loc[total - 1, 2])\r\n",
        "  if dict_key == \"chr3\":\r\n",
        "    end_coord_list.append(Ref_Gen_DF.loc[total - 1, 2])\r\n",
        "  if dict_key == \"chr4\":\r\n",
        "    end_coord_list.append(Ref_Gen_DF.loc[total - 1, 2])\r\n",
        "  if dict_key == \"chr5\":\r\n",
        "    end_coord_list.append(Ref_Gen_DF.loc[total - 1, 2])\r\n",
        "  if dict_key == \"chr6\":\r\n",
        "    end_coord_list.append(Ref_Gen_DF.loc[total - 1, 2])\r\n",
        "  if dict_key == \"chr7\":\r\n",
        "    end_coord_list.append(Ref_Gen_DF.loc[total - 1, 2])\r\n",
        "  if dict_key == \"chrX\":\r\n",
        "    end_coord_list.append(Ref_Gen_DF.loc[total - 1, 2])\r\n",
        "  if dict_key == \"chr8\":\r\n",
        "    end_coord_list.append(Ref_Gen_DF.loc[total - 1, 2])\r\n",
        "  if dict_key == \"chr9\":\r\n",
        "    end_coord_list.append(Ref_Gen_DF.loc[total - 1, 2])\r\n",
        "  if dict_key == \"chr10\":\r\n",
        "    end_coord_list.append(Ref_Gen_DF.loc[total - 1, 2])\r\n",
        "  if dict_key == \"chr11\":\r\n",
        "    end_coord_list.append(Ref_Gen_DF.loc[total - 1, 2])\r\n",
        "  if dict_key == \"chr12\":\r\n",
        "    end_coord_list.append(Ref_Gen_DF.loc[total - 1, 2])\r\n",
        "  if dict_key == \"chr13\":\r\n",
        "    end_coord_list.append(Ref_Gen_DF.loc[total - 1, 2])\r\n",
        "  if dict_key == \"chr14\":\r\n",
        "    end_coord_list.append(Ref_Gen_DF.loc[total - 1, 2])\r\n",
        "  if dict_key == \"chr15\":\r\n",
        "    end_coord_list.append(Ref_Gen_DF.loc[total - 1, 2])\r\n",
        "  if dict_key == \"chr16\":\r\n",
        "    end_coord_list.append(Ref_Gen_DF.loc[total - 1, 2])\r\n",
        "  if dict_key == \"chr17\":\r\n",
        "    end_coord_list.append(Ref_Gen_DF.loc[total - 1, 2])\r\n",
        "  if dict_key == \"chr18\":\r\n",
        "    end_coord_list.append(Ref_Gen_DF.loc[total - 1, 2])\r\n",
        "  if dict_key == \"chr20\":\r\n",
        "    end_coord_list.append(Ref_Gen_DF.loc[total - 1, 2])\r\n",
        "  if dict_key == \"chr19\":\r\n",
        "    end_coord_list.append(Ref_Gen_DF.loc[total - 1, 2])\r\n",
        "  if dict_key == \"chrY\":\r\n",
        "    end_coord_list.append(Ref_Gen_DF.loc[total - 1, 2])\r\n",
        "  if dict_key == \"chr22\":\r\n",
        "    end_coord_list.append(Ref_Gen_DF.loc[total - 1, 2])\r\n",
        "  if dict_key == \"chr21\":\r\n",
        "    end_coord_list.append(Ref_Gen_DF.loc[total - 1, 2])\r\n"
      ],
      "execution_count": null,
      "outputs": []
    },
    {
      "cell_type": "code",
      "metadata": {
        "id": "PiIz3118v7Xx"
      },
      "source": [
        "fl4_DF = fl3_DF.copy()"
      ],
      "execution_count": null,
      "outputs": []
    },
    {
      "cell_type": "code",
      "metadata": {
        "id": "65bWEkFZwLfS"
      },
      "source": [
        "fl4_DF"
      ],
      "execution_count": null,
      "outputs": []
    },
    {
      "cell_type": "markdown",
      "metadata": {
        "id": "Kl-at-LdyuaS"
      },
      "source": [
        "According to number of elements of each chromosome group, only look at end coordinates of the last element of each chromosome group and compare it with the last element of the each chromosome's groups' reference genome. Then discard the genes which exceed the end coordinates of the reference genome using dataframe index."
      ]
    },
    {
      "cell_type": "code",
      "metadata": {
        "id": "MqiZQuf4boFw"
      },
      "source": [
        "for n, i in zip(chr_name_list, end_coord_list):\r\n",
        "  print(n)\r\n",
        "  Exceeded_indices = fl3_DF[(fl3_DF[\"Chromosome_Name\"] == n) & (pd.to_numeric(fl3_DF[\"End\"]) >= i)].index\r\n",
        "  fl4_DF = fl4_DF.drop(Exceeded_indices)"
      ],
      "execution_count": null,
      "outputs": []
    },
    {
      "cell_type": "code",
      "metadata": {
        "id": "lYoXYiNPtm4S"
      },
      "source": [
        "fl4_DF"
      ],
      "execution_count": null,
      "outputs": []
    },
    {
      "cell_type": "code",
      "metadata": {
        "id": "xeDGkFeCTj8c"
      },
      "source": [
        "del dict_key, dict_value, total, i, n, end_coord_list, Exceeded_indices, fl3_DF"
      ],
      "execution_count": null,
      "outputs": []
    },
    {
      "cell_type": "markdown",
      "metadata": {
        "id": "RGV06i3I3Ldk"
      },
      "source": [
        "Write down Dataframe as \".BED\" file for retrieving intergenic file."
      ]
    },
    {
      "cell_type": "code",
      "metadata": {
        "id": "Ua7yshRc3EfY"
      },
      "source": [
        "fl4_DF.to_csv(\"/content/drive/MyDrive/Scripts/Data/Extended_geneAnnotation.bed\", sep='\\t', index=False, header=False)"
      ],
      "execution_count": null,
      "outputs": []
    },
    {
      "cell_type": "markdown",
      "metadata": {
        "id": "2IAtp13At5PO"
      },
      "source": [
        "# Substract gene locations from referece genome"
      ]
    },
    {
      "cell_type": "code",
      "metadata": {
        "id": "r2BpXyDYLpsC"
      },
      "source": [
        "!bedtools subtract -a '/content/drive/MyDrive/Scripts/Data/5kb_divided_hg19.bed' -b '/content/drive/MyDrive/Scripts/Data/Extended_geneAnnotation.bed' > \"/content/drive/MyDrive/Scripts/Data/intergenes_init.bed\""
      ],
      "execution_count": null,
      "outputs": []
    },
    {
      "cell_type": "code",
      "metadata": {
        "id": "VBDD2M-2OSlV"
      },
      "source": [
        "Intergenes_DF = pd.read_csv(\"/content/drive/MyDrive/Scripts/Data/intergenes_init.bed\", delimiter=\"\\t\", names=[\"Chromosome_Name\", \"Start\", \"End\", \"S1\", \"S2\", \"S3\"])\r\n",
        "\r\n",
        "Intergenes_DF"
      ],
      "execution_count": null,
      "outputs": []
    },
    {
      "cell_type": "markdown",
      "metadata": {
        "id": "5TfWN5mLVZU-"
      },
      "source": [
        "Prepare intergene candidates regions for _bedtools intersect_."
      ]
    },
    {
      "cell_type": "code",
      "metadata": {
        "id": "ASWmCOqi421H"
      },
      "source": [
        "Intergenes_DF[\"Chromosome_Name\"] = Intergenes_DF[\"Chromosome_Name\"].str.replace(\"chrM\",\"chrY\")\r\n",
        "Intergenes_DF = Intergenes_DF.drop(Intergenes_DF[Intergenes_DF[\"Chromosome_Name\"] == \"chrY\"].index)"
      ],
      "execution_count": null,
      "outputs": []
    },
    {
      "cell_type": "code",
      "metadata": {
        "id": "RMckEdPucg81"
      },
      "source": [
        "Intergenes_DF"
      ],
      "execution_count": null,
      "outputs": []
    },
    {
      "cell_type": "code",
      "metadata": {
        "id": "ucWBA_jMdE3B"
      },
      "source": [
        "Intergenes_DF[Intergenes_DF[\"Chromosome_Name\"] == \"chrY\"]"
      ],
      "execution_count": null,
      "outputs": []
    },
    {
      "cell_type": "markdown",
      "metadata": {
        "id": "rC5sTPqr4HYL"
      },
      "source": [
        "Then, check for the gene start sites which had minus value."
      ]
    },
    {
      "cell_type": "code",
      "metadata": {
        "id": "WI8KjT4i4bik"
      },
      "source": [
        "Intergenes_DF[pd.to_numeric(Intergenes_DF[\"Start\"]) < 0]"
      ],
      "execution_count": null,
      "outputs": []
    },
    {
      "cell_type": "markdown",
      "metadata": {
        "id": "9UthHC2_3UDn"
      },
      "source": [
        "To remove genes having minus value."
      ]
    },
    {
      "cell_type": "code",
      "metadata": {
        "id": "hml_Zj5u3C-d"
      },
      "source": [
        "target_indices = Intergenes_DF[Intergenes_DF[\"Start\"] <= 0].index\r\n",
        "\r\n",
        "Intergenes_DF = Intergenes_DF.drop(target_indices)"
      ],
      "execution_count": null,
      "outputs": []
    },
    {
      "cell_type": "code",
      "metadata": {
        "id": "1pagqZeDxNkq"
      },
      "source": [
        "Intergenes_DF"
      ],
      "execution_count": null,
      "outputs": []
    },
    {
      "cell_type": "markdown",
      "metadata": {
        "id": "azy6G8jYxykF"
      },
      "source": [
        "# Select mappable intergenic regions."
      ]
    },
    {
      "cell_type": "code",
      "metadata": {
        "id": "XYQ2YzFvyA4C"
      },
      "source": [
        "damage_seq = pd.read_csv(\"/content/drive/MyDrive/Scripts/Data/Damage_regions_Hg19Genome.bed\", delimiter=\"\\t\", names=[\"Chromosome_Name\", \"Start\", \"End\", \"RPKM\", \"Label\"])\r\n",
        "damage_seq"
      ],
      "execution_count": null,
      "outputs": []
    },
    {
      "cell_type": "markdown",
      "metadata": {
        "id": "2YHOvJfERkWN"
      },
      "source": [
        "## Intersect damage-seq and Intergenes using _bedtools intersect_\r\n",
        "\r\n",
        "\r\n",
        "\r\n",
        "\r\n"
      ]
    },
    {
      "cell_type": "code",
      "metadata": {
        "id": "cR0LUZrafYJo"
      },
      "source": [
        "D64A = damage_seq[damage_seq[\"Label\"] == \"HDA64A1_ATCACG\"]\r\n",
        "D64A = D64A.drop(D64A[D64A[\"Chromosome_Name\"] == \"chrM\"].index)"
      ],
      "execution_count": null,
      "outputs": []
    },
    {
      "cell_type": "code",
      "metadata": {
        "id": "ddPjp20JTunT"
      },
      "source": [
        "D64A.to_csv(\"/content/drive/MyDrive/Scripts/Data/DMG64PP_RepA.bed\", sep='\\t', index=False, header=False)\r\n",
        "Intergenes_DF.to_csv(\"/content/drive/MyDrive/Scripts/Data/intergenes_sec.bed\", sep='\\t', index=False, header=False)"
      ],
      "execution_count": null,
      "outputs": []
    },
    {
      "cell_type": "code",
      "metadata": {
        "id": "1cZP59v3av3F"
      },
      "source": [
        "!sort -k1,1 -V -k2,2n \"/content/drive/MyDrive/Scripts/Data/DMG64PP_RepA.bed\" > \"/content/drive/MyDrive/Scripts/Data/DMG64PP_RepA_sorted.bed\"\r\n",
        "!sort -k1,1 -V -k2,2n \"/content/drive/MyDrive/Scripts/Data/intergenes_sec.bed\" > \"/content/drive/MyDrive/Scripts/Data/intergenes_sec_sorted.bed\""
      ],
      "execution_count": null,
      "outputs": []
    },
    {
      "cell_type": "code",
      "metadata": {
        "id": "_Le-0Np8RqXz"
      },
      "source": [
        "!bedtools intersect -sorted -a \"/content/drive/MyDrive/Scripts/Data/intergenes_sec_sorted.bed\" -b \"/content/drive/MyDrive/Scripts/Data/DMG64PP_RepA_sorted.bed\" -wa -c -f 1.0 > '/content/drive/MyDrive/Scripts/Data/intergenic_sites.bed'"
      ],
      "execution_count": null,
      "outputs": []
    },
    {
      "cell_type": "code",
      "metadata": {
        "id": "0chQlCMuXG5O"
      },
      "source": [
        "Intergenes = pd.read_csv(\"/content/drive/MyDrive/Scripts/Data/intergenic_sites.bed\", delimiter=\"\\t\", names=[\"Chromosome_Name\", \"Start\", \"End\", \"S1\", \"S2\", \"S3\", \"Counts\"])\r\n",
        "Intergenes"
      ],
      "execution_count": null,
      "outputs": []
    },
    {
      "cell_type": "code",
      "metadata": {
        "id": "PY5jbb3XXQCo"
      },
      "source": [
        "Intergenes[Intergenes[\"Counts\"] > 0]"
      ],
      "execution_count": null,
      "outputs": []
    },
    {
      "cell_type": "code",
      "metadata": {
        "id": "cyp6pNfQelbM"
      },
      "source": [
        "Intergenes[Intergenes[\"Counts\"] > 1]"
      ],
      "execution_count": null,
      "outputs": []
    },
    {
      "cell_type": "code",
      "metadata": {
        "id": "_CoWkvP6VMsn"
      },
      "source": [
        "del Intergenes, D64A, damage_seq"
      ],
      "execution_count": null,
      "outputs": []
    },
    {
      "cell_type": "markdown",
      "metadata": {
        "id": "3l6R809r2gjx"
      },
      "source": [
        "# Write down genes reads as \".bed\"."
      ]
    },
    {
      "cell_type": "code",
      "metadata": {
        "id": "Perc6Vek-Zt3"
      },
      "source": [
        "path = \"/content/drive/MyDrive/Scripts/Data/\"\r\n",
        "\r\n",
        "UTSS_sorted_DF.to_csv(path + \"U_TSS_raw.bed\", sep='\\t', index=False, header=False)\r\n",
        "\r\n",
        "DTSS_sorted_DF.to_csv(path + \"D_TSS_raw.bed\", sep='\\t', index=False, header=False)\r\n",
        "\r\n",
        "UTES_sorted_DF.to_csv(path + \"U_TES_raw.bed\", sep='\\t', index=False, header=False)"
      ],
      "execution_count": null,
      "outputs": []
    }
  ]
}
